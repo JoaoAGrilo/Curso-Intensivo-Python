{
 "cells": [
  {
   "cell_type": "markdown",
   "metadata": {},
   "source": [
    "# Variáveis e tipos de dados simples\n"
   ]
  },
  {
   "cell_type": "code",
   "execution_count": null,
   "metadata": {},
   "outputs": [
    {
     "name": "stdout",
     "output_type": "stream",
     "text": [
      "Hello World Python\n",
      "Hello Python Crash Course world!\n"
     ]
    }
   ],
   "source": [
    "mensagem = 'Hello World Python'\n",
    "print(mensagem)\n",
    "\n",
    "mensagem = 'Hello Python Crash Course world!'\n",
    "print(mensagem)"
   ]
  },
  {
   "cell_type": "markdown",
   "metadata": {},
   "source": [
    "### Nomeando variáveis\n",
    "- Nomes de variáveis podem ter somente letras, números e underscore. NÃO pode iniciar com um número.\n",
    "- Não são permitidos espaços em nomes de variáveis. Costumo utilizar underline para separar palavras.\n",
    "- Não devemos utilizar nenhuma palavra reservada do Python para nomear nosss variáveis.\n",
    "- Nomes de variáveis devem ser descritivos e sucintos.\n",
    "\n"
   ]
  },
  {
   "cell_type": "markdown",
   "metadata": {},
   "source": [
    "### Erros e tracebacks\n",
    "Quando um erro ocorre, o interpretador exibe uma mensagem para identificar ao programador onde o erro foi encontrado, e qual foi o erro ocorrido."
   ]
  },
  {
   "cell_type": "code",
   "execution_count": null,
   "metadata": {},
   "outputs": [
    {
     "ename": "NameError",
     "evalue": "name 'mensage' is not defined",
     "output_type": "error",
     "traceback": [
      "\u001b[1;31m---------------------------------------------------------------------------\u001b[0m",
      "\u001b[1;31mNameError\u001b[0m                                 Traceback (most recent call last)",
      "Cell \u001b[1;32mIn[6], line 2\u001b[0m\n\u001b[0;32m      1\u001b[0m mensagem \u001b[38;5;241m=\u001b[39m \u001b[38;5;124m\"\u001b[39m\u001b[38;5;124mHello Python Crash Course reader!\u001b[39m\u001b[38;5;124m\"\u001b[39m\n\u001b[1;32m----> 2\u001b[0m \u001b[38;5;28mprint\u001b[39m(\u001b[43mmensage\u001b[49m)\n",
      "\u001b[1;31mNameError\u001b[0m: name 'mensage' is not defined"
     ]
    }
   ],
   "source": [
    "mensagem = 'Hello Python Crash Course reader!'\n",
    "print(mensage)"
   ]
  },
  {
   "cell_type": "markdown",
   "metadata": {},
   "source": [
    "O erro acima indica um erro na linha dois, onde tentamos imprimir o valor de uma variável que não existe. Neste caso, o erro ocorreu porque escrevemos o nome da variável errado."
   ]
  },
  {
   "cell_type": "markdown",
   "metadata": {},
   "source": [
    "# Tipos de dados\n",
    "## Strings\n",
    "São uma sequência, ou cadeia, de caracteres. São definidas entre aspas duplas ou simples\n",
    "### Operações\n",
    "**Case**\n",
    "- **Title** Transforma a primeira letra de cada palavra de uma string em letra miúscula.\n",
    "- **Lower** Transforma todos os caracteres de uma string em letra minúscula.\n",
    "- **Upper** Transforma todos os caracteres de uma string em letra maiúscula.\n",
    "\n",
    "**Espaço**\n",
    "- **Strip** Remove os espaços no final e no início de uma string\n",
    "- **rStrip** Remove espaços no final (lado direito) de uma string\n",
    "- **lStrip** Remove espaços no início (lado esquerdo) de uma string\n",
    "\n",
    "**Prefixo e Sufixo**\n",
    "- **RemovePrefix** Remove o prefixo desejado de uma string\n",
    "- **RemoveSufix** Remove o sufixo desejado de uma string"
   ]
  },
  {
   "cell_type": "code",
   "execution_count": null,
   "metadata": {},
   "outputs": [
    {
     "name": "stdout",
     "output_type": "stream",
     "text": [
      "Case\n",
      "Joao athayde\n",
      "Title: Joao Athayde\n",
      "Lower: joao athayde\n",
      "Upper: JOAO ATHAYDE \n",
      "\n",
      "Espaço\n",
      "Strip: isto é um texto\n",
      "rStrip:              isto é um texto\n",
      "lStrip: isto é um texto             \n",
      "\n",
      "Prefixo\n",
      "https://github.com/JoaoAGrilo/Curso-Intensivo-Python\n",
      "RemovePrefix: github.com/JoaoAGrilo/Curso-Intensivo-Python\n"
     ]
    }
   ],
   "source": [
    "\n",
    "print('Case')\n",
    "nome = 'Joao athayde'\n",
    "print(nome)\n",
    "print('Title:', nome.title())\n",
    "print('Lower:', nome.lower())\n",
    "print('Upper:', nome.upper(), '\\n')\n",
    "\n",
    "print('Espaço')\n",
    "mensagem = '             isto é um texto            '\n",
    "print('Strip:', mensagem.strip())\n",
    "print('rStrip:', mensagem.rstrip())\n",
    "print('lStrip:', mensagem.lstrip(), '\\n')\n",
    "\n",
    "print('Prefixo e sufixo')\n",
    "github_url = 'https://github.com/JoaoAGrilo/Curso-Intensivo-Python'\n",
    "print(github_url)\n",
    "print('RemovePrefix:', github_url.removeprefix('https://'))"
   ]
  },
  {
   "cell_type": "markdown",
   "metadata": {},
   "source": [
    "### f-strings\n",
    "São utilizadas para colocar variáveis dentro de strings"
   ]
  },
  {
   "cell_type": "code",
   "execution_count": null,
   "metadata": {},
   "outputs": [
    {
     "name": "stdout",
     "output_type": "stream",
     "text": [
      "João Athayde\n"
     ]
    }
   ],
   "source": [
    "first_name = 'João'\n",
    "last_name = 'Athayde'\n",
    "full_name = f\"{first_name} {last_name}\"\n",
    "print(full_name)"
   ]
  },
  {
   "cell_type": "markdown",
   "metadata": {},
   "source": [
    "#### Exercícios"
   ]
  },
  {
   "cell_type": "markdown",
   "metadata": {},
   "source": [
    "Mensagem pessoal: Use uma variável para representar o nome de uma pessoa e\n",
    "exiba uma mensagem para essa pessoa. Sua mensagem deve ser simples, como “Olá\n",
    "Eric, gostaria de aprender um pouco de Python hoje?”"
   ]
  },
  {
   "cell_type": "code",
   "execution_count": 2,
   "metadata": {},
   "outputs": [
    {
     "name": "stdout",
     "output_type": "stream",
     "text": [
      "Olá Eric, gostaria de aprender um pouco de Python hoje?\n"
     ]
    }
   ],
   "source": [
    "nome = 'Eric'\n",
    "print(f'Olá {nome}, gostaria de aprender um pouco de Python hoje?')"
   ]
  },
  {
   "cell_type": "markdown",
   "metadata": {},
   "source": [
    "Maiúsculas e minúsculas: Use uma variável para representar o nome de uma\n",
    "pessoa e, em seguida, exiba o nome dessa pessoa em letras minúsculas, maiúsculas e\n",
    "as primeiras letras maiúsculas."
   ]
  },
  {
   "cell_type": "code",
   "execution_count": 3,
   "metadata": {},
   "outputs": [
    {
     "name": "stdout",
     "output_type": "stream",
     "text": [
      "joao athayde grilo\n",
      "JOAO ATHAYDE GRILO\n",
      "Joao Athayde Grilo\n"
     ]
    }
   ],
   "source": [
    "nome = 'Joao athayde grilo'\n",
    "print(nome.lower())\n",
    "print(nome.upper())\n",
    "print(nome.title())\n"
   ]
  },
  {
   "cell_type": "markdown",
   "metadata": {},
   "source": [
    "Citação famosa: Encontre uma citação de uma pessoa famosa que você admira.\n",
    "Exiba a citação e o nome do autor. Sua saída deve se parecer com a seguinte, incluindo\n",
    "as aspas:"
   ]
  },
  {
   "cell_type": "code",
   "execution_count": 4,
   "metadata": {},
   "outputs": [
    {
     "name": "stdout",
     "output_type": "stream",
     "text": [
      "Albert Einstein disse uma vez: \"Uma pessoa que nunca cometeu um erro nunca tentou nada de novo.\"\n"
     ]
    }
   ],
   "source": [
    "print('Albert Einstein disse uma vez: \"Uma pessoa que nunca cometeu um erro nunca tentou nada de novo.\"')"
   ]
  },
  {
   "cell_type": "markdown",
   "metadata": {},
   "source": [
    "Citação famosa 2: Repita o exercício anterior, mas desta vez represente o nome da\n",
    "pessoa famosa usando uma variável chamada famous_person. Depois, escreva sua\n",
    "mensagem e a represente com uma nova variável chamada message. Printe sua\n",
    "mensagem."
   ]
  },
  {
   "cell_type": "code",
   "execution_count": 5,
   "metadata": {},
   "outputs": [
    {
     "name": "stdout",
     "output_type": "stream",
     "text": [
      "Albert Einstein disse uma vez: \"Uma pessoa que nunca cometeu um erro nunca tentou nada de novo.\"\n"
     ]
    }
   ],
   "source": [
    "famous_person = 'Albert Einstein'\n",
    "message = '\"Uma pessoa que nunca cometeu um erro nunca tentou nada de novo.\"'\n",
    "\n",
    "print(f'{famous_person} disse uma vez: {message}')"
   ]
  },
  {
   "cell_type": "markdown",
   "metadata": {},
   "source": [
    "Removendo nomes: Use uma variável para representar o nome de uma pessoa e\n",
    "inclua alguns caracteres de espaço em branco no início e no final do nome. Lembre-se\n",
    "de usar cada combinação de caracteres, \"\\t\" e \"\\n\", pelo menos uma vez.\n",
    "Exiba o nome uma vez para que o espaço em branco ao redor do nome seja mostrado.\n",
    "Em seguida, printe o nome usando cada uma das três funções de remoção, lstrip(),\n",
    "rstrip(), e strip()."
   ]
  },
  {
   "cell_type": "code",
   "execution_count": 7,
   "metadata": {},
   "outputs": [
    {
     "name": "stdout",
     "output_type": "stream",
     "text": [
      "John Doe                         \n",
      "\t\n",
      "     \n",
      "\tJohn Doe\n",
      "John Doe\n"
     ]
    }
   ],
   "source": [
    "nome = '     \\n\\tJohn Doe                         \\n\\t'\n",
    "print(nome.lstrip())\n",
    "print(nome.rstrip())\n",
    "print(nome.strip())"
   ]
  },
  {
   "cell_type": "markdown",
   "metadata": {},
   "source": [
    "Extensões de arquivo: O Python tem um método removesuffix() que funciona\n",
    "exatamente como removeprefix(). Atribua o valor 'python_notes.txt' a uma variável\n",
    "chamada filename. Depois, utilize o método removesuffix() para exibir o nome do\n",
    "arquivo sem a extensão do arquivo, como alguns navegadores de arquivos fazem."
   ]
  },
  {
   "cell_type": "code",
   "execution_count": 8,
   "metadata": {},
   "outputs": [
    {
     "name": "stdout",
     "output_type": "stream",
     "text": [
      "python_notes\n"
     ]
    }
   ],
   "source": [
    "arquivo = 'python_notes.txt'\n",
    "print(arquivo.removesuffix('.txt'))"
   ]
  },
  {
   "cell_type": "markdown",
   "metadata": {},
   "source": [
    "## Números"
   ]
  }
 ],
 "metadata": {
  "kernelspec": {
   "display_name": "Python 3",
   "language": "python",
   "name": "python3"
  },
  "language_info": {
   "codemirror_mode": {
    "name": "ipython",
    "version": 3
   },
   "file_extension": ".py",
   "mimetype": "text/x-python",
   "name": "python",
   "nbconvert_exporter": "python",
   "pygments_lexer": "ipython3",
   "version": "3.10.11"
  }
 },
 "nbformat": 4,
 "nbformat_minor": 2
}
